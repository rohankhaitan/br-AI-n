{
 "cells": [
  {
   "cell_type": "markdown",
   "id": "dae71ca1-5174-46e8-b523-f47af4cfecf7",
   "metadata": {},
   "source": [
    "#### Monte Hall Problem :\n",
    "    Suppose you're on a game show, and you're given the choice of three doors: Behind one door is a car; behind the others, goats. You pick a door, say No. 1, and the host, who knows what's behind the doors, opens another door, say No. 3, which has a goat. He then says to you, \"Do you want to pick door No. 2?\" Is it to your advantage to switch your choice?"
   ]
  },
  {
   "cell_type": "markdown",
   "id": "f15f444f-07dd-43da-a195-dd70fdce792e",
   "metadata": {},
   "source": [
    "### Solving using Simulation\n",
    "    You should switch. But why?"
   ]
  },
  {
   "cell_type": "markdown",
   "id": "37ca746b-f8ef-45c3-b429-2bcc3e8fd899",
   "metadata": {
    "tags": []
   },
   "source": [
    "### Importing Libraries"
   ]
  },
  {
   "cell_type": "code",
   "execution_count": 1,
   "id": "7dab4917-d372-4876-94f9-fad2d833a0bc",
   "metadata": {},
   "outputs": [],
   "source": [
    "import numpy as np\n",
    "import matplotlib.pyplot as plt"
   ]
  },
  {
   "cell_type": "markdown",
   "id": "b3c4c21e-9a2d-49eb-acd3-0b0f0aedac4e",
   "metadata": {},
   "source": [
    "### Simulation Function "
   ]
  },
  {
   "cell_type": "code",
   "execution_count": 2,
   "id": "3628ac67-7240-4477-9054-6759d6934e72",
   "metadata": {},
   "outputs": [],
   "source": [
    "def monty_hall_game_single_round(switch = True):\n",
    "    \n",
    "    doors = [1, 2, 3]  #three doors\n",
    "    \n",
    "    # Choose a door that has car behind it\n",
    "    car_door = np.random.choice(doors, 1)\n",
    "    \n",
    "    # Player picks a door at random\n",
    "    player_initial_choice = np.random.choice(doors, 1) \n",
    "    \n",
    "    # Doors which are not picked by the player\n",
    "    remaining_doors = [door for door in doors if door != player_initial_choice]\n",
    "    \n",
    "    # Host chooses a door from the remaining doors that doesn't have car behind it\n",
    "    ## (if the player chooses the car door, then the host chooses one of the remaining doors randomly, \n",
    "    ## otherwise he has only one choice )\n",
    "    \n",
    "    host_opens = np.random.choice([door for door in remaining_doors if door not in [car_door, player_initial_choice]], 1) \n",
    "    \n",
    "    if switch:\n",
    "        # Player switches to an available door which the host didn't open\n",
    "        player_choice = [door for door in remaining_doors if door not in [player_initial_choice, host_opens]]\n",
    "    \n",
    "    else:\n",
    "        # Player sticks to the initial selection\n",
    "        player_choice = player_initial_choice \n",
    "        \n",
    "    playerWins = True if player_choice == car_door else False\n",
    "    \n",
    "    return playerWins"
   ]
  },
  {
   "cell_type": "markdown",
   "id": "26cee89d-9bf4-4be2-9f93-3ee97ba35229",
   "metadata": {},
   "source": [
    "### Run the game multiple times"
   ]
  },
  {
   "cell_type": "code",
   "execution_count": 3,
   "id": "fd4335f8-79b1-449f-81ca-5962d837798b",
   "metadata": {},
   "outputs": [],
   "source": [
    "def resultAfterDrawingMutipleSamples(num_iters):\n",
    "    \n",
    "    wins_with_switching = [monty_hall_game_single_round(switch = True) for iteration in range(num_iters)]\n",
    "    wins_without_switching = [monty_hall_game_single_round(switch = False) for iteration in range(num_iters)]\n",
    "    \n",
    "    return wins_with_switching, wins_without_switching"
   ]
  },
  {
   "cell_type": "code",
   "execution_count": 4,
   "id": "d2674b33-4613-44f1-a8e9-ff92066d4c99",
   "metadata": {},
   "outputs": [],
   "source": [
    "number_of_rounds = 10000\n",
    "wins_with_switching, wins_without_switching = resultAfterDrawingMutipleSamples(number_of_rounds)"
   ]
  },
  {
   "cell_type": "markdown",
   "id": "9290bc73-badd-41bd-bc99-ca9a717b0a5b",
   "metadata": {},
   "source": [
    "### Result"
   ]
  },
  {
   "cell_type": "code",
   "execution_count": 5,
   "id": "521393c7-9343-464c-9007-2d9b73132861",
   "metadata": {},
   "outputs": [
    {
     "name": "stdout",
     "output_type": "stream",
     "text": [
      "Win Percentage with Switching: 0.6679\n",
      "Win Percentage without Switching: 0.3368\n"
     ]
    },
    {
     "data": {
      "text/plain": [
       "<matplotlib.legend.Legend at 0x2774eb22100>"
      ]
     },
     "execution_count": 5,
     "metadata": {},
     "output_type": "execute_result"
    },
    {
     "data": {
      "image/png": "[encoded data removed]",
      "text/plain": [
       "<Figure size 432x288 with 1 Axes>"
      ]
     },
     "metadata": {
      "needs_background": "light"
     },
     "output_type": "display_data"
    }
   ],
   "source": [
    "print(\"Win Percentage with Switching:\", sum(wins_with_switching) / number_of_rounds)\n",
    "print(\"Win Percentage without Switching:\", sum(wins_without_switching) / number_of_rounds)\n",
    "\n",
    "rolling_mean_switch = [sum(wins_with_switching[:i+1])/(i+1) for i in range(1, number_of_rounds)]\n",
    "rolling_mean_noSwitch = [sum(wins_without_switching[:i+1])/(i+1) for i in range(1, number_of_rounds)]\n",
    "\n",
    "plt.plot(rolling_mean_switch)\n",
    "plt.plot(rolling_mean_noSwitch)\n",
    "plt.legend(['Switch', 'No Switch'])"
   ]
  },
  {
   "cell_type": "code",
   "execution_count": null,
   "id": "b842d02a-7a6e-451f-b092-3c0c20f41c7c",
   "metadata": {},
   "outputs": [],
   "source": []
  }
 ],
 "metadata": {
  "kernelspec": {
   "display_name": "Python 3 (ipykernel)",
   "language": "python",
   "name": "python3"
  },
  "language_info": {
   "codemirror_mode": {
    "name": "ipython",
    "version": 3
   },
   "file_extension": ".py",
   "mimetype": "text/x-python",
   "name": "python",
   "nbconvert_exporter": "python",
   "pygments_lexer": "ipython3",
   "version": "3.8.6"
  }
 },
 "nbformat": 4,
 "nbformat_minor": 5
}
