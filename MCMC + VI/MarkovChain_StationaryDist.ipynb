{
 "cells": [
  {
   "cell_type": "markdown",
   "id": "000fa4c0-7cd6-4ed3-9b1c-138642281add",
   "metadata": {},
   "source": [
    "### Import libraries"
   ]
  },
  {
   "cell_type": "code",
   "execution_count": 1,
   "id": "4fd02c13-7abb-4f02-b361-8edaf7667ea3",
   "metadata": {},
   "outputs": [],
   "source": [
    "import numpy as np\n",
    "import pandas as pd\n",
    "from random import seed\n",
    "from random import random\n",
    "import matplotlib.pyplot as plt"
   ]
  },
  {
   "cell_type": "markdown",
   "id": "cbea33df-6579-4701-9442-434dc90b8355",
   "metadata": {},
   "source": [
    "### States & Transition Probabilities"
   ]
  },
  {
   "cell_type": "code",
   "execution_count": 2,
   "id": "a9be45a8-2fb5-48c1-a09e-c626bdf963f8",
   "metadata": {},
   "outputs": [],
   "source": [
    "states = {0, 1, 2}\n",
    "trans_prob = [[0.4, 0.5, 0.1], [0.7, 0.2, 0.1], [0.0, 0.3, 0.7]]"
   ]
  },
  {
   "cell_type": "markdown",
   "id": "0e6e1f9e-72d0-4f34-8dfa-479e6ea1b5b3",
   "metadata": {},
   "source": [
    "### Function to get the next state"
   ]
  },
  {
   "cell_type": "code",
   "execution_count": 3,
   "id": "31969f8e-2cc7-4341-8c30-e21bdaee6bf4",
   "metadata": {},
   "outputs": [],
   "source": [
    "## Function to get the next state from the current state (using transition probability)\n",
    "def get_next_state_mc(trans_row):\n",
    "    \n",
    "    \"\"\"\n",
    "    trans_row : Transition probabilities from the current state\n",
    "    \"\"\"\n",
    "    \n",
    "    r = np.random.uniform(0, 1)\n",
    "    cum_sum = [0] + [sum(trans_row[:i]) for i in range(1, len(trans_row)+1)]\n",
    "    \n",
    "    for i in range(1, len(cum_sum)+1):\n",
    "        \n",
    "        if cum_sum[i-1] <= r < cum_sum[i]:\n",
    "            \n",
    "            next_state = i-1\n",
    "            break\n",
    "    \n",
    "    return next_state"
   ]
  },
  {
   "cell_type": "markdown",
   "id": "1a25edc0-9970-4eae-bfaf-8dd5fce11d82",
   "metadata": {},
   "source": [
    "### Simulation"
   ]
  },
  {
   "cell_type": "code",
   "execution_count": 4,
   "id": "efc4cfff-96e4-48a2-9bbe-5148e6e9064e",
   "metadata": {},
   "outputs": [],
   "source": [
    "## Simulation\n",
    "def simulate_chain(states, trans_prob, initial_state = 0, n_runs = 1000):\n",
    "    \n",
    "    '''\n",
    "    states : different states\n",
    "    trans_prob : transition matrix\n",
    "    initial_state : state from which the chain starts\n",
    "    n_runs : number of times we simulate\n",
    "\n",
    "    '''\n",
    "    \n",
    "    state_history = [initial_state]\n",
    "    current_state = initial_state\n",
    "    \n",
    "    for i in range(n_runs -1):\n",
    "        \n",
    "        trans_row = trans_prob[current_state]\n",
    "        next_state = get_next_state_mc(trans_row)\n",
    "        state_history.append(next_state)\n",
    "        current_state = next_state\n",
    "    \n",
    "    return state_history"
   ]
  },
  {
   "cell_type": "code",
   "execution_count": 5,
   "id": "e49a1e10-c74b-4d2d-bbac-2e38bdcc8d25",
   "metadata": {},
   "outputs": [
    {
     "name": "stdout",
     "output_type": "stream",
     "text": [
      "[0, 1, 1, 0, 1, 1, 0, 1, 1, 2, 2, 2, 2, 2, 2, 2, 1, 1, 2, 1, 0, 0, 0, 1, 2, 2, 1, 0, 1, 0, 2, 1, 1, 0, 1, 1, 1, 0, 0, 0, 1, 0, 1, 0, 1, 0, 0, 2, 2, 2, 1, 1, 0, 0, 0, 0, 0, 2, 2, 1, 0, 2, 2, 2, 2, 2, 2, 1, 0, 2, 1, 0, 1, 0, 1, 0, 1, 0, 0, 1, 0, 1, 2, 1, 2, 2, 2, 1, 2, 1, 0, 1, 1, 0, 0, 0, 1, 0, 0, 1]\n"
     ]
    }
   ],
   "source": [
    "state_history = simulate_chain(states, trans_prob)\n",
    "print(state_history[:100])"
   ]
  },
  {
   "cell_type": "markdown",
   "id": "1fb6a7b3-49df-4b19-9db8-2d3456986860",
   "metadata": {},
   "source": [
    "### Estimate the transition probabilities to compare with the true(given) ones"
   ]
  },
  {
   "cell_type": "code",
   "execution_count": 6,
   "id": "974079d2-c685-4af9-bf86-9812f6f2bad9",
   "metadata": {},
   "outputs": [
    {
     "name": "stdout",
     "output_type": "stream",
     "text": [
      "Estimated Transition Probabilities: \n",
      " [[0.42685851 0.441247   0.13189448]\n",
      " [0.72205438 0.18731118 0.09063444]\n",
      " [0.         0.33864542 0.66135458]]\n",
      "-------------------------------------------------- \n",
      "True Transition Probabilities: \n",
      " [[0.4 0.5 0.1]\n",
      " [0.7 0.2 0.1]\n",
      " [0.  0.3 0.7]]\n"
     ]
    }
   ],
   "source": [
    "## Function for normalizing 2-d numpy arrays\n",
    "def normalize_array(x, col_norm = False):\n",
    "    \n",
    "    x = x.astype(float)\n",
    "\n",
    "    if col_norm == True:\n",
    "        x = np.transpose(x)\n",
    "        \n",
    "    for i in range(x.shape[0]):\n",
    "        x[i] = x[i] / np.sum(x[i])\n",
    "    \n",
    "    return np.transpose(x) if col_norm == True else x\n",
    "\n",
    "def estimated_trans_prob(states, state_seq):\n",
    "    \n",
    "    '''\n",
    "    states : different states -- list of unique states\n",
    "    state_seq : simulated state chain\n",
    "    \n",
    "    '''\n",
    "    state_transition = np.zeros((len(states),len(states)))\n",
    "    \n",
    "    for i in range(1, len(state_seq)):\n",
    "        x, y = state_seq[i-1], state_seq[i]\n",
    "        state_transition[x, y] += 1\n",
    "        \n",
    "    return normalize_array(state_transition)\n",
    "\n",
    "print(\"Estimated Transition Probabilities: \\n\", estimated_trans_prob(states, state_history))\n",
    "print(\"-\"*50, \"\\nTrue Transition Probabilities: \\n\", np.array(trans_prob))"
   ]
  },
  {
   "cell_type": "markdown",
   "id": "d63e9c4f-669c-4e53-84ea-420e1a3f81e8",
   "metadata": {},
   "source": [
    "### State distribution"
   ]
  },
  {
   "cell_type": "code",
   "execution_count": 7,
   "id": "87d43bec-090f-4ef8-b0c4-6eb4db0783e6",
   "metadata": {},
   "outputs": [],
   "source": [
    "def state_distribution_with_iterations(state_history):\n",
    "    \n",
    "    '''\n",
    "    state_history : simulated state chain\n",
    "    \n",
    "    '''\n",
    "    \n",
    "    state_prob = []\n",
    "\n",
    "    for i in range(len(state_history)):\n",
    "        state_prob.append([1 if state_history[i] == j else 0 for j in range(len(states))])\n",
    "        \n",
    "    state_dists = normalize_array(np.cumsum(state_prob, axis = 0))\n",
    "    \n",
    "    return state_dists"
   ]
  },
  {
   "cell_type": "markdown",
   "id": "3cc2197c-f030-4419-a722-3ea7357d12e9",
   "metadata": {},
   "source": [
    "### Visualize the distribution history"
   ]
  },
  {
   "cell_type": "code",
   "execution_count": 8,
   "id": "46673904-5d4b-49cf-a3e1-9cf192afe763",
   "metadata": {},
   "outputs": [
    {
     "data": {
      "text/plain": [
       "array([[1.        , 0.        , 0.        ],\n",
       "       [0.5       , 0.5       , 0.        ],\n",
       "       [0.33333333, 0.66666667, 0.        ],\n",
       "       ...,\n",
       "       [0.41783567, 0.33066132, 0.25150301],\n",
       "       [0.41741742, 0.33133133, 0.25125125],\n",
       "       [0.418     , 0.331     , 0.251     ]])"
      ]
     },
     "execution_count": 8,
     "metadata": {},
     "output_type": "execute_result"
    }
   ],
   "source": [
    "distHistory = state_distribution_with_iterations(state_history)\n",
    "distHistory"
   ]
  },
  {
   "cell_type": "code",
   "execution_count": 9,
   "id": "cdb7a616-9d39-4a1c-b88e-f146dd8c239e",
   "metadata": {},
   "outputs": [
    {
     "data": {
      "image/png": "[encoded data removed]",
      "text/plain": [
       "<Figure size 432x288 with 1 Axes>"
      ]
     },
     "metadata": {
      "needs_background": "light"
     },
     "output_type": "display_data"
    }
   ],
   "source": [
    "plt.plot(distHistory)\n",
    "plt.legend([0,1,2])\n",
    "plt.show()"
   ]
  },
  {
   "cell_type": "markdown",
   "id": "1cca6186-11ee-4367-9c72-ab06edd8530c",
   "metadata": {},
   "source": [
    "Here the distribution converges to a stationary distribution [0.501, 0.412, 0.0865]"
   ]
  },
  {
   "cell_type": "code",
   "execution_count": null,
   "id": "8b1e20bd-9eae-4e9f-b806-6edffc0ea36e",
   "metadata": {},
   "outputs": [],
   "source": []
  }
 ],
 "metadata": {
  "kernelspec": {
   "display_name": "Python 3 (ipykernel)",
   "language": "python",
   "name": "python3"
  },
  "language_info": {
   "codemirror_mode": {
    "name": "ipython",
    "version": 3
   },
   "file_extension": ".py",
   "mimetype": "text/x-python",
   "name": "python",
   "nbconvert_exporter": "python",
   "pygments_lexer": "ipython3",
   "version": "3.8.6"
  }
 },
 "nbformat": 4,
 "nbformat_minor": 5
}
