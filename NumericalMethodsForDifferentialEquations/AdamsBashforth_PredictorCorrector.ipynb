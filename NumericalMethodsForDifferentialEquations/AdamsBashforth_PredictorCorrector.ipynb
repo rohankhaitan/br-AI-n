{
 "cells": [
  {
   "cell_type": "markdown",
   "id": "46b66a55-8075-42ab-9832-d1e92ae5360f",
   "metadata": {
    "tags": []
   },
   "source": [
    "### Solving Differential Equation using Adams Bashforth Predictor Corrector method"
   ]
  },
  {
   "cell_type": "markdown",
   "id": "0f562376-78ea-47bc-bf7a-64205fa73ff5",
   "metadata": {},
   "source": [
    "**Here the target is to solve the following - \n",
    "${dy \\over dx} = y - x^2 + 1 , y_0= 0.5$ <br /> \n",
    "<br /> The exact solution is - $y(x) = (x+1)^2 - e^x/2$**"
   ]
  },
  {
   "cell_type": "markdown",
   "id": "166bf814-86b9-4373-870c-d7d28314f229",
   "metadata": {},
   "source": [
    "### Import Libraries"
   ]
  },
  {
   "cell_type": "code",
   "execution_count": 1,
   "id": "1e7f9364-89cf-4586-a1d1-7d3cea49de10",
   "metadata": {},
   "outputs": [],
   "source": [
    "import numpy as np\n",
    "import matplotlib.pyplot as plt"
   ]
  },
  {
   "cell_type": "markdown",
   "id": "8e68b855-98f4-4ad8-9534-e00024822a95",
   "metadata": {
    "tags": []
   },
   "source": [
    "### Differential Equation and Exact solution"
   ]
  },
  {
   "cell_type": "code",
   "execution_count": 2,
   "id": "c93b0d02-e7f0-4db3-a2a5-d857fcf7ce7c",
   "metadata": {},
   "outputs": [],
   "source": [
    "def diff_fn(x, y):\n",
    "    \n",
    "    return y - x**2 +1\n",
    "\n",
    "def exact_sol(x):\n",
    "   \n",
    "    return (x+1.0)**2 - np.exp(x)/2"
   ]
  },
  {
   "cell_type": "markdown",
   "id": "ef374d6a-bba3-46b3-8527-be063ab15b1b",
   "metadata": {},
   "source": [
    "### Plotting True Function "
   ]
  },
  {
   "cell_type": "code",
   "execution_count": 3,
   "id": "818f6d32-1752-48a5-bfb1-2c0f7b2edb8e",
   "metadata": {},
   "outputs": [
    {
     "data": {
      "image/png": "[encoded data removed]",
      "text/plain": [
       "<Figure size 432x288 with 1 Axes>"
      ]
     },
     "metadata": {
      "needs_background": "light"
     },
     "output_type": "display_data"
    }
   ],
   "source": [
    "x = np.linspace(0, 5, 51)\n",
    "y_true = [exact_sol(i) for i in x]\n",
    "plt.plot(x, y_true)\n",
    "legend = ['True']\n",
    "plt.show()"
   ]
  },
  {
   "cell_type": "markdown",
   "id": "26501aee-19aa-4aa5-a343-3e58ac825c65",
   "metadata": {},
   "source": [
    "### Adams Bashforth Predictor Corrector method"
   ]
  },
  {
   "cell_type": "code",
   "execution_count": 4,
   "id": "1a23b248-0e17-45cc-b641-d82a9314f63c",
   "metadata": {},
   "outputs": [],
   "source": [
    "def AB_Predictor_Corrector(f, a, b, y0, step_size = 0.1):\n",
    "        \n",
    "    h = step_size #(b-a)/n_steps \n",
    "    n_steps = int((b-a)/step_size)\n",
    "    \n",
    "    x = np.linspace(a, b, n_steps + 1, endpoint= True) \n",
    "    y = np.zeros((n_steps + 1,)) \n",
    "    \n",
    "    y[0] = y0  \n",
    "\n",
    "    #using RK4 to obtain the first 3 points\n",
    "    for i in range(0, n_steps):\n",
    "        \n",
    "        if i in range(0,3):\n",
    "            k1 = h * f(x[i],y[i])\n",
    "            k2 = h * f(x[i] + (h/2.0), y[i] +(k1/2.0))\n",
    "            k3 = h * f(x[i] + (h/2.0), y[i] + (k2/2.0))\n",
    "            k4 = h * f(x[i] + h, y[i] + k3)\n",
    "        \n",
    "            y[i + 1] = y[i] + (k1 + 2.0*k2 + 2.0*k3 + k4)/6.0\n",
    "            \n",
    "        else:\n",
    "            \n",
    "             y[i + 1] = y[i] + h*(55.0 * f(x[i],y[i]) - 59.0 * f(x[i-1],y[i-1]) + 37.0 * f(x[i-2],y[i-2]) - 9.0 * f(x[i-3],y[i-3]))/24.0\n",
    "             \n",
    "             y[i + 1] = y[i] + h*(9.0 * f(x[i+1], y[i + 1]) + 19.0 * f(x[i],y[i]) - 5.0 * f(x[i-1],y[i-1]) + f(x[i-2],y[i-2]))/24.0\n",
    "             \n",
    "             \n",
    "    return y"
   ]
  },
  {
   "cell_type": "markdown",
   "id": "8efeff4a-2c7c-4d4a-ae17-aba802fe711c",
   "metadata": {},
   "source": [
    "### Approximation"
   ]
  },
  {
   "cell_type": "code",
   "execution_count": 5,
   "id": "3c31bdb9-2a34-4aa8-97b7-de8d2287ff69",
   "metadata": {},
   "outputs": [
    {
     "name": "stdout",
     "output_type": "stream",
     "text": [
      "Errors:\n",
      " [0.00000000e+00 1.65962176e-07 3.44922519e-07 5.37779393e-07\n",
      " 6.90095461e-07 8.67093029e-07 1.07423807e-06 1.31528731e-06\n",
      " 1.59514960e-06 1.91933151e-06 2.29405863e-06 2.72637696e-06\n",
      " 3.22425555e-06 3.79670262e-06 4.45389606e-06 5.20732978e-06\n",
      " 6.06997796e-06 7.05647933e-06 8.18334371e-06 9.46918369e-06\n",
      " 1.09349743e-05 1.26043443e-05 1.45039017e-05 1.66635999e-05\n",
      " 1.91171466e-05 2.19024622e-05 2.50621929e-05 2.86442859e-05\n",
      " 3.27026322e-05 3.72977863e-05 4.24977725e-05 4.83789856e-05\n",
      " 5.50271996e-05 6.25386951e-05 7.10215210e-05 8.05969048e-05\n",
      " 9.14008291e-05 1.03585795e-04 1.17322792e-04 1.32803500e-04\n",
      " 1.50242751e-04 1.69881277e-04 1.91988784e-04 2.16867382e-04\n",
      " 2.44855417e-04 2.76331755e-04 3.11720557e-04 3.51496622e-04\n",
      " 3.96191341e-04 4.46399355e-04 5.02785974e-04]\n",
      "\n",
      "Plot - True vs Approximation - \n",
      "\n"
     ]
    },
    {
     "data": {
      "image/png": "[encoded data removed]",
      "text/plain": [
       "<Figure size 432x288 with 1 Axes>"
      ]
     },
     "metadata": {
      "needs_background": "light"
     },
     "output_type": "display_data"
    }
   ],
   "source": [
    "step_size = 0.1\n",
    "a = 0.0 \n",
    "b = 5.0 \n",
    "y0 = 0.5 \n",
    "\n",
    "n_steps = int((b-a)/step_size)\n",
    "x = np.linspace(a, b, n_steps + 1, endpoint= True)\n",
    "\n",
    "y = AB_Predictor_Corrector(diff_fn, a, b, y0, step_size)\n",
    "y_true = exact_sol(x) \n",
    "\n",
    "### Errors\n",
    "print('Errors:\\n',np.abs(np.transpose(np.ravel(y)-y_true)))\n",
    "\n",
    "### Compare true and approximate solution\n",
    "print('\\nPlot - True vs Approximation - \\n')\n",
    "plt.figure()\n",
    "plt.plot(x, y_true, 'b-', marker='o', linewidth=1) # True solution\n",
    "plt.plot(x, y, 'y-', marker='+', linewidth=1)  # Approximation \n",
    "\n",
    "plt.xlabel('x')\t# set x-axis label as x\n",
    "plt.ylabel('y(x)')\t# set y-axis label as y(x)\n",
    "plt.legend(['Exact solution', 'Predictor Corrector - Step size 0.1'])\n",
    "\n",
    "plt.show()"
   ]
  },
  {
   "cell_type": "code",
   "execution_count": null,
   "id": "cc86b5fd-5415-43d9-943e-e9d61afe3d34",
   "metadata": {},
   "outputs": [],
   "source": []
  }
 ],
 "metadata": {
  "kernelspec": {
   "display_name": "Python 3 (ipykernel)",
   "language": "python",
   "name": "python3"
  },
  "language_info": {
   "codemirror_mode": {
    "name": "ipython",
    "version": 3
   },
   "file_extension": ".py",
   "mimetype": "text/x-python",
   "name": "python",
   "nbconvert_exporter": "python",
   "pygments_lexer": "ipython3",
   "version": "3.8.6"
  }
 },
 "nbformat": 4,
 "nbformat_minor": 5
}
