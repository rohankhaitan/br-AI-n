{
  "cells": [
    {
      "cell_type": "markdown",
      "metadata": {
        "id": "HdLKSOkFFAt9"
      },
      "source": [
        "### Bayesian Neural Network (Julia)"
      ]
    },
    {
      "cell_type": "markdown",
      "metadata": {
        "id": "Ij6dUBbqZo5O"
      },
      "source": [
        "## Import Packages"
      ]
    },
    {
      "cell_type": "code",
      "execution_count": null,
      "metadata": {
        "colab": {
          "base_uri": "https://localhost:8080/"
        },
        "id": "xe9OuCCYSf5T",
        "outputId": "185671da-0866-46f0-ed6d-7e8bbf7c3bba"
      },
      "outputs": [
        {
          "name": "stderr",
          "output_type": "stream",
          "text": [
            "\u001b[32m\u001b[1m    Updating\u001b[22m\u001b[39m registry at `~/.julia/registries/General.toml`\n",
            "\u001b[32m\u001b[1m   Resolving\u001b[22m\u001b[39m package versions...\n",
            "\u001b[32m\u001b[1m  No Changes\u001b[22m\u001b[39m to `~/.julia/environments/v1.7/Project.toml`\n",
            "\u001b[32m\u001b[1m  No Changes\u001b[22m\u001b[39m to `~/.julia/environments/v1.7/Manifest.toml`\n"
          ]
        }
      ],
      "source": [
        "using Pkg\n",
        "using ADCME\n",
        "using PyPlot \n",
        "using ProgressMeter\n",
        "using Statistics\n",
        "using Dates"
      ]
    },
    {
      "cell_type": "code",
      "execution_count": null,
      "metadata": {
        "colab": {
          "base_uri": "https://localhost:8080/"
        },
        "id": "kO8oo5ESbzJG",
        "outputId": "352874bf-ac68-421b-c215-452172dd4f1a"
      },
      "outputs": [
        {
          "data": {
            "text/plain": [
              "2022-08-16T07:50:33.780"
            ]
          },
          "execution_count": 7,
          "metadata": {},
          "output_type": "execute_result"
        }
      ],
      "source": [
        "start = now()"
      ]
    },
    {
      "cell_type": "markdown",
      "metadata": {},
      "source": [
        "### Data"
      ]
    },
    {
      "cell_type": "code",
      "execution_count": null,
      "metadata": {
        "colab": {
          "base_uri": "https://localhost:8080/",
          "height": 485
        },
        "id": "hUI-qpRlQ4Hj",
        "outputId": "f4f668e1-4a42-41d3-f051-207157177c58"
      },
      "outputs": [
        {
          "name": "stdout",
          "output_type": "stream",
          "text": [
            "[1.0095929892611664; 4.263787669716048; 3.9908417708002757; 4.930856277674437; 3.9642634731867235; 6.32327012707073; 6.384180141915694; 4.2403200934848995; 1.7918469885129829; -2.426277054368263; -1.2638855570772267; -1.3398520061762087; -2.2877862059338088; 0.2526718813223886; 0.8580088982662665; 5.7598020563159436; 5.098996397322182; 8.951694826905182; 9.814070588045883; 12.04925749328134; 13.740552054081006; 12.852341068140717; 13.429071225226723; 12.559475309516785; 15.503158630504945; 14.845957083386937; 15.707510355099215; 16.579807435769673; 21.46543655933984; 25.507678227848185; 31.79739323705705; 39.7938868497634;;]"
          ]
        },
        {
          "data": {
            "image/png": "[encoded data removed]",
            "text/plain": [
              "Figure(PyObject <Figure size 640x480 with 1 Axes>)"
            ]
          },
          "metadata": {},
          "output_type": "display_data"
        },
        {
          "data": {
            "text/plain": [
              "PyObject <matplotlib.legend.Legend object at 0x7f13e18b6f10>"
            ]
          },
          "execution_count": 16,
          "metadata": {},
          "output_type": "execute_result"
        }
      ],
      "source": [
        "function f(x, σ)\n",
        "    ε = randn(size(x)...) * σ\n",
        "    #println(x)\n",
        "    return 5 * (sin.(2π*x) + exp.(2*x))+ ε\n",
        "end\n",
        "\n",
        "batch_size = 32\n",
        "noise = 1.0\n",
        "\n",
        "X = reshape(LinRange(-1, 1, batch_size)|>Array, :, 1)\n",
        "y = [1.0095929892611664; 4.263787669716048; 3.9908417708002757; 4.930856277674437; 3.9642634731867235; 6.32327012707073; 6.384180141915694; 4.2403200934848995; 1.7918469885129829; -2.426277054368263; -1.2638855570772267; -1.3398520061762087; -2.2877862059338088; 0.2526718813223886; 0.8580088982662665; 5.7598020563159436; 5.098996397322182; 8.951694826905182; 9.814070588045883; 12.04925749328134; 13.740552054081006; 12.852341068140717; 13.429071225226723; 12.559475309516785; 15.503158630504945; 14.845957083386937; 15.707510355099215; 16.579807435769673; 21.46543655933984; 25.507678227848185; 31.79739323705705; 39.7938868497634;;]\n",
        "#y = f(X, noise)\n",
        "print(y)\n",
        "y_true = f(X, 0.0)\n",
        "\n",
        "close(\"all\")\n",
        "scatter(X, y, marker=\"+\", label=\"Training Data\")\n",
        "#scatter(X, y_temp, marker=\"*\", label=\"Training Data 2\")\n",
        "\n",
        "plot(X, y_true, label=\"Truth\")\n",
        "legend()"
      ]
    },
    {
      "cell_type": "markdown",
      "metadata": {},
      "source": [
        "### Bayesian NN Model"
      ]
    },
    {
      "cell_type": "code",
      "execution_count": null,
      "metadata": {
        "colab": {
          "base_uri": "https://localhost:8080/"
        },
        "id": "KkkQV34fQ-P6",
        "outputId": "4e0c7c48-bb1e-48d7-cc7f-ff14a9228fb8"
      },
      "outputs": [
        {
          "data": {
            "text/plain": [
              "PyObject <tf.Tensor 'add_20:0' shape=() dtype=float64>"
            ]
          },
          "execution_count": 9,
          "metadata": {},
          "output_type": "execute_result"
        }
      ],
      "source": [
        "mutable struct VariationalLayer\n",
        "    units\n",
        "    activation\n",
        "    prior_σ1\n",
        "    prior_σ2\n",
        "    prior_π1\n",
        "    prior_π2\n",
        "    Wμ\n",
        "    bμ\n",
        "    Wρ\n",
        "    bρ\n",
        "    init_σ\n",
        "end\n",
        "\n",
        "function VariationalLayer(units; activation=relu, prior_σ1=1.5, prior_σ2=0.1,\n",
        "        prior_π1=0.5)\n",
        "    init_σ = sqrt(\n",
        "        prior_π1 * prior_σ1^2 + (1-prior_π1)*prior_σ2^2\n",
        "    )\n",
        "    VariationalLayer(units, activation, prior_σ1, prior_σ2, prior_π1, 1-prior_π1,\n",
        "                        missing, missing, missing, missing, init_σ)\n",
        "end\n",
        "\n",
        "function kl_loss(vl, w, μ, σ)\n",
        "    dist = ADCME.Normal(μ,σ)\n",
        "    return sum(logpdf(dist, w)-logprior(vl, w))\n",
        "end\n",
        "\n",
        "function logprior(vl, w)\n",
        "    dist1 = ADCME.Normal(constant(0.0), vl.prior_σ1)\n",
        "    dist2 = ADCME.Normal(constant(0.0), vl.prior_σ2)\n",
        "    log(vl.prior_π1*exp(logpdf(dist1, w)) + vl.prior_π2*exp(logpdf(dist2, w)))\n",
        "end\n",
        "\n",
        "function (vl::VariationalLayer)(x)\n",
        "    x = constant(x)\n",
        "    if ismissing(vl.bμ)\n",
        "        vl.Wμ = get_variable(vl.init_σ*randn(size(x,2), vl.units))\n",
        "        vl.Wρ = get_variable(zeros(size(x,2), vl.units))\n",
        "        vl.bμ = get_variable(vl.init_σ*randn(1, vl.units))\n",
        "        vl.bρ = get_variable(zeros(1, vl.units))\n",
        "    end\n",
        "    Wσ = softplus(vl.Wρ)\n",
        "    W = vl.Wμ + Wσ.*normal(size(vl.Wμ)...) \n",
        "    bσ = softplus(vl.bρ)\n",
        "    b = vl.bμ + bσ.*normal(size(vl.bμ)...)\n",
        "    loss = kl_loss(vl, W, vl.Wμ, Wσ) + kl_loss(vl, b, vl.bμ, bσ)\n",
        "    out = vl.activation(x * W + b)\n",
        "    return out, loss \n",
        "end\n",
        "\n",
        "function neg_log_likelihood(y_obs, y_pred, σ)\n",
        "    y_obs = constant(y_obs)\n",
        "    dist = ADCME.Normal(y_pred, σ)\n",
        "    sum(-logpdf(dist, y_obs))\n",
        "end\n",
        "\n",
        "ipt = placeholder(X)\n",
        "x, loss1 = VariationalLayer(20, activation=relu)(ipt)\n",
        "x, loss2 = VariationalLayer(20, activation=relu)(x)\n",
        "x, loss3 = VariationalLayer(1, activation=x->x)(x)\n",
        "\n",
        "loss_lf = neg_log_likelihood(y, x, noise)\n",
        "loss = loss1 + loss2 + loss3 + loss_lf"
      ]
    },
    {
      "cell_type": "markdown",
      "metadata": {},
      "source": [
        "### Prediction"
      ]
    },
    {
      "cell_type": "code",
      "execution_count": null,
      "metadata": {
        "colab": {
          "base_uri": "https://localhost:8080/",
          "height": 814
        },
        "id": "of3Z1V8lWHel",
        "outputId": "b4d6c427-b174-4cd1-e04b-5a115edf7a21"
      },
      "outputs": [
        {
          "name": "stderr",
          "output_type": "stream",
          "text": [
            "2022-08-16 07:50:54.755353: I tensorflow/core/platform/cpu_feature_guard.cc:145] This TensorFlow binary is optimized with Intel(R) MKL-DNN to use the following CPU instructions in performance critical operations:  SSE4.1 SSE4.2 AVX AVX2 FMA\n",
            "To enable them in non-MKL-DNN operations, rebuild TensorFlow with the appropriate compiler flags.\n",
            "2022-08-16 07:50:54.761228: I tensorflow/core/platform/profile_utils/cpu_utils.cc:94] CPU Frequency: 2199995000 Hz\n",
            "2022-08-16 07:50:54.761926: I tensorflow/compiler/xla/service/service.cc:168] XLA service 0x12ed08c0 initialized for platform Host (this does not guarantee that XLA will be used). Devices:\n",
            "2022-08-16 07:50:54.761963: I tensorflow/compiler/xla/service/service.cc:176]   StreamExecutor device (0): Host, Default Version\n",
            "OMP: Info #212: KMP_AFFINITY: decoding x2APIC ids.\n",
            "OMP: Info #210: KMP_AFFINITY: Affinity capable, using global cpuid leaf 11 info\n",
            "OMP: Info #154: KMP_AFFINITY: Initial OS proc set respected: 0,1\n",
            "OMP: Info #156: KMP_AFFINITY: 2 available OS procs\n",
            "OMP: Info #157: KMP_AFFINITY: Uniform topology\n",
            "OMP: Info #179: KMP_AFFINITY: 1 packages x 1 cores/pkg x 2 threads/core (1 total cores)\n",
            "OMP: Info #214: KMP_AFFINITY: OS proc to physical thread map:\n",
            "OMP: Info #171: KMP_AFFINITY: OS proc 0 maps to package 0 thread 0 \n",
            "OMP: Info #171: KMP_AFFINITY: OS proc 1 maps to package 0 thread 1 \n",
            "OMP: Info #250: KMP_AFFINITY: pid 6371 tid 6371 thread 0 bound to OS proc set 0\n",
            "2022-08-16 07:50:54.762374: I tensorflow/core/common_runtime/process_util.cc:115] Creating new thread pool with default inter op setting: 2. Tune using inter_op_parallelism_threads for best performance.\n",
            "OMP: Info #250: KMP_AFFINITY: pid 6371 tid 6419 thread 1 bound to OS proc set 1\n",
            "\u001b[32mProgress:   0%|                                         |  ETA: 0:25:39\u001b[39mOMP: Info #250: KMP_AFFINITY: pid 6371 tid 6418 thread 2 bound to OS proc set 0\n",
            "\u001b[32mProgress: 100%|█████████████████████████████████████████| Time: 0:00:04\u001b[39m\n",
            "\u001b[32mProgress: 100%|█████████████████████████████████████████| Time: 0:00:01\u001b[39m\n"
          ]
        },
        {
          "data": {
            "image/png": "[encoded data removed]",
            "text/plain": [
              "Figure(PyObject <Figure size 640x480 with 1 Axes>)"
            ]
          },
          "metadata": {},
          "output_type": "display_data"
        },
        {
          "data": {
            "text/plain": [
              "PyObject <matplotlib.collections.PolyCollection object at 0x7f13e1879790>"
            ]
          },
          "execution_count": 10,
          "metadata": {},
          "output_type": "execute_result"
        }
      ],
      "source": [
        "opt = AdamOptimizer(0.08).minimize(loss)\n",
        "sess = Session(); init(sess)\n",
        "@showprogress for i = 1:1500\n",
        "    run(sess, opt)\n",
        "end\n",
        "\n",
        "X_test = reshape(LinRange(-1,1,32)|>Array, :, 1)\n",
        "y_pred_list = []\n",
        "\n",
        "@showprogress for i = 1:1000\n",
        "    y_pred = run(sess, x, ipt=>X_test)\n",
        "    push!(y_pred_list, y_pred)\n",
        "end\n",
        "\n",
        "y_preds = hcat(y_pred_list...)\n",
        "\n",
        "y_mean = mean(y_preds, dims=2)[:]\n",
        "y_std = std(y_preds, dims=2)[:]\n",
        "\n",
        "close(\"all\")\n",
        "plot(X_test, y_mean)\n",
        "scatter(X[:], y[:], marker=\"+\")\n",
        "fill_between(X_test[:], y_mean-2y_std, y_mean+2y_std, alpha=0.5)"
      ]
    },
    {
      "cell_type": "markdown",
      "metadata": {
        "id": "yBZlgOM_k3h9"
      },
      "source": [
        "## Error"
      ]
    },
    {
      "cell_type": "code",
      "execution_count": null,
      "metadata": {
        "colab": {
          "base_uri": "https://localhost:8080/"
        },
        "id": "209OUBJfkFhy",
        "outputId": "c6d17bae-766c-41a8-af8c-76dea64fd897"
      },
      "outputs": [
        {
          "data": {
            "text/plain": [
              "mse (generic function with 1 method)"
            ]
          },
          "execution_count": 11,
          "metadata": {},
          "output_type": "execute_result"
        }
      ],
      "source": [
        "function mse(y, y_pred)\n",
        "\n",
        "  error = 0\n",
        "  for i in 1:length(y)\n",
        "\n",
        "    error = error + (y[i] - y_pred[i])^2\n",
        "    #println(error)\n",
        "  end\n",
        "\n",
        "  return error\n",
        "  end\n"
      ]
    },
    {
      "cell_type": "code",
      "execution_count": null,
      "metadata": {
        "colab": {
          "base_uri": "https://localhost:8080/"
        },
        "id": "qPuuHDSXj0c9",
        "outputId": "f3e76e43-118d-42aa-e039-3cd1d7677246"
      },
      "outputs": [
        {
          "data": {
            "text/plain": [
              "149.86053018329852"
            ]
          },
          "execution_count": 12,
          "metadata": {},
          "output_type": "execute_result"
        }
      ],
      "source": [
        "mse(y, y_mean)"
      ]
    },
    {
      "cell_type": "code",
      "execution_count": null,
      "metadata": {
        "colab": {
          "base_uri": "https://localhost:8080/"
        },
        "id": "Lev-3mqyWcQ2",
        "outputId": "78a9a831-baca-41f9-aa6c-34d6cc39093c"
      },
      "outputs": [
        {
          "name": "stdout",
          "output_type": "stream",
          "text": [
            "Total  Time taken: 29.9 seconds\n"
          ]
        }
      ],
      "source": [
        "end2 = now()\n",
        "time_taken = (end2 - start) \n",
        "println(\"Total  Time taken: \", Dates.value(time_taken)/1000, \" seconds\")"
      ]
    },
    {
      "cell_type": "code",
      "execution_count": null,
      "metadata": {
        "id": "FiqpZ85ej5un"
      },
      "outputs": [],
      "source": []
    }
  ],
  "metadata": {
    "colab": {
      "collapsed_sections": [],
      "provenance": []
    },
    "gpuClass": "standard",
    "kernelspec": {
      "display_name": "Julia 1.7.3",
      "language": "julia",
      "name": "julia-1.7"
    },
    "language_info": {
      "file_extension": ".jl",
      "mimetype": "application/julia",
      "name": "julia",
      "version": "1.7.3"
    }
  },
  "nbformat": 4,
  "nbformat_minor": 0
}
