{
  "cells": [
    {
      "cell_type": "markdown",
      "metadata": {
        "id": "e2bBfopmZs4j"
      },
      "source": [
        "## Import packages"
      ]
    },
    {
      "cell_type": "code",
      "execution_count": null,
      "metadata": {
        "id": "7-zki_2rZv4I"
      },
      "outputs": [],
      "source": [
        "import numpy as np\n",
        "import matplotlib.pyplot as plt\n",
        "\n",
        "%matplotlib inline\n",
        "\n",
        "from keras import backend as K\n",
        "from keras import activations, initializers\n",
        "from keras.layers import Layer\n",
        "\n",
        "import tensorflow as tf\n",
        "import tensorflow_probability as tfp"
      ]
    },
    {
      "cell_type": "code",
      "execution_count": null,
      "metadata": {
        "id": "G4KZojVOMRMt"
      },
      "outputs": [],
      "source": [
        "import time\n",
        "start = time.time()"
      ]
    },
    {
      "cell_type": "markdown",
      "metadata": {
        "id": "g0a5j78iWrK6"
      },
      "source": [
        "## Data Visualization"
      ]
    },
    {
      "cell_type": "code",
      "execution_count": null,
      "metadata": {
        "colab": {
          "base_uri": "https://localhost:8080/",
          "height": 281
        },
        "id": "nhbl65k1MkBr",
        "outputId": "4e58cc99-bb8b-4527-c6ac-306915feb65f"
      },
      "outputs": [
        {
          "data": {
            "image/png": "[encoded data removed]",
            "text/plain": [
              "<Figure size 432x288 with 1 Axes>"
            ]
          },
          "metadata": {
            "needs_background": "light"
          },
          "output_type": "display_data"
        }
      ],
      "source": [
        "def f(x, sigma):\n",
        "    epsilon = np.random.randn(*x.shape) * sigma\n",
        "    return 5 * (np.sin(2 * np.pi * (x)) + np.exp(2*x)) + epsilon\n",
        "\n",
        "train_size = 32\n",
        "noise = 1.0\n",
        "\n",
        "X = np.linspace(-1, 1, train_size).reshape(-1, 1)\n",
        "#y = f(X, sigma=noise)\n",
        "#print(y)\n",
        "\n",
        "y = np.array([1.0095929892611664, 4.263787669716048, 3.9908417708002757, 4.930856277674437, 3.9642634731867235, 6.32327012707073, 6.384180141915694, 4.2403200934848995, 1.7918469885129829, -2.426277054368263, -1.2638855570772267, -1.3398520061762087, -2.2877862059338088, 0.2526718813223886, 0.8580088982662665, 5.7598020563159436, 5.098996397322182, 8.951694826905182, 9.814070588045883, 12.04925749328134, 13.740552054081006, 12.852341068140717, 13.429071225226723, 12.559475309516785, 15.503158630504945, 14.845957083386937, 15.707510355099215, 16.579807435769673, 21.46543655933984, 25.507678227848185, 31.79739323705705, 39.7938868497634])\n",
        "y = y.reshape(-1, 1)\n",
        "\n",
        "y_true = f(X, sigma=0.0)\n",
        "\n",
        "plt.scatter(X, y, marker='+', label='Training data')\n",
        "plt.plot(X, y_true, label='Truth')\n",
        "plt.title('Noisy training data and ground truth')\n",
        "plt.legend();"
      ]
    },
    {
      "cell_type": "markdown",
      "metadata": {
        "id": "gfheNQDoWwJ5"
      },
      "source": [
        "## Bayesian NN Model"
      ]
    },
    {
      "cell_type": "code",
      "execution_count": null,
      "metadata": {
        "id": "4gsZL9-WZbAm"
      },
      "outputs": [],
      "source": [
        "class DenseVariational(Layer):\n",
        "    def __init__(self,\n",
        "                 units,\n",
        "                 kl_weight,\n",
        "                 activation=None,\n",
        "                 prior_sigma_1=1.5,\n",
        "                 prior_sigma_2=0.1,\n",
        "                 prior_pi=0.5, **kwargs):\n",
        "        self.units = units\n",
        "        self.kl_weight = kl_weight\n",
        "        self.activation = activations.get(activation)\n",
        "        self.prior_sigma_1 = prior_sigma_1\n",
        "        self.prior_sigma_2 = prior_sigma_2\n",
        "        self.prior_pi_1 = prior_pi\n",
        "        self.prior_pi_2 = 1.0 - prior_pi\n",
        "        self.init_sigma = np.sqrt(self.prior_pi_1 * self.prior_sigma_1 ** 2 +\n",
        "                                  self.prior_pi_2 * self.prior_sigma_2 ** 2)\n",
        "\n",
        "        super().__init__(**kwargs)\n",
        "\n",
        "    def compute_output_shape(self, input_shape):\n",
        "        return input_shape[0], self.units\n",
        "\n",
        "    def build(self, input_shape):\n",
        "        self.kernel_mu = self.add_weight(name='kernel_mu',\n",
        "                                         shape=(input_shape[1], self.units),\n",
        "                                         initializer=initializers.normal(stddev=self.init_sigma),\n",
        "                                         trainable=True)\n",
        "        self.bias_mu = self.add_weight(name='bias_mu',\n",
        "                                       shape=(self.units,),\n",
        "                                       initializer=initializers.normal(stddev=self.init_sigma),\n",
        "                                       trainable=True)\n",
        "        self.kernel_rho = self.add_weight(name='kernel_rho',\n",
        "                                          shape=(input_shape[1], self.units),\n",
        "                                          initializer=initializers.constant(0.0),\n",
        "                                          trainable=True)\n",
        "        self.bias_rho = self.add_weight(name='bias_rho',\n",
        "                                        shape=(self.units,),\n",
        "                                        initializer=initializers.constant(0.0),\n",
        "                                        trainable=True)\n",
        "        super().build(input_shape)\n",
        "\n",
        "    def call(self, inputs, **kwargs):\n",
        "        kernel_sigma = tf.math.softplus(self.kernel_rho)\n",
        "        kernel = self.kernel_mu + kernel_sigma * tf.random.normal(self.kernel_mu.shape)\n",
        "\n",
        "        bias_sigma = tf.math.softplus(self.bias_rho)\n",
        "        bias = self.bias_mu + bias_sigma * tf.random.normal(self.bias_mu.shape)\n",
        "\n",
        "        self.add_loss(self.kl_loss(kernel, self.kernel_mu, kernel_sigma) +\n",
        "                      self.kl_loss(bias, self.bias_mu, bias_sigma))\n",
        "\n",
        "        return self.activation(K.dot(inputs, kernel) + bias)\n",
        "\n",
        "    def kl_loss(self, w, mu, sigma):\n",
        "        variational_dist = tfp.distributions.Normal(mu, sigma)\n",
        "        return self.kl_weight * K.sum(variational_dist.log_prob(w) - self.log_prior_prob(w))\n",
        "\n",
        "    def log_prior_prob(self, w):\n",
        "        comp_1_dist = tfp.distributions.Normal(0.0, self.prior_sigma_1)\n",
        "        comp_2_dist = tfp.distributions.Normal(0.0, self.prior_sigma_2)\n",
        "        return K.log(self.prior_pi_1 * comp_1_dist.prob(w) +\n",
        "                     self.prior_pi_2 * comp_2_dist.prob(w))"
      ]
    },
    {
      "cell_type": "code",
      "execution_count": null,
      "metadata": {
        "id": "OVfTHhifZcru"
      },
      "outputs": [],
      "source": [
        "import warnings\n",
        "warnings.filterwarnings('ignore')\n",
        "\n",
        "from keras.layers import Input\n",
        "from keras.models import Model\n",
        "\n",
        "batch_size = train_size\n",
        "num_batches = train_size / batch_size\n",
        "\n",
        "kl_weight = 1.0 / num_batches\n",
        "prior_params = {\n",
        "    'prior_sigma_1': 1.5, \n",
        "    'prior_sigma_2': 0.1, \n",
        "    'prior_pi': 0.5 \n",
        "}\n",
        "\n",
        "x_in = Input(shape=(1,))\n",
        "x = DenseVariational(20, kl_weight, **prior_params, activation='relu')(x_in)\n",
        "x = DenseVariational(20, kl_weight, **prior_params, activation='relu')(x)\n",
        "x = DenseVariational(1, kl_weight, **prior_params)(x)\n",
        "\n",
        "model = Model(x_in, x)"
      ]
    },
    {
      "cell_type": "code",
      "execution_count": null,
      "metadata": {
        "id": "Y0lUeMdXZf9d"
      },
      "outputs": [],
      "source": [
        "from keras import callbacks, optimizers\n",
        "\n",
        "def neg_log_likelihood(y_obs, y_pred, sigma=noise):\n",
        "    dist = tfp.distributions.Normal(loc=y_pred, scale=sigma)\n",
        "    return K.sum(-dist.log_prob(y_obs))\n",
        "\n",
        "model.compile(loss=neg_log_likelihood, optimizer=tf.keras.optimizers.Adam(lr=0.08), metrics=['mse'])\n",
        "model.fit(X, y, batch_size=batch_size, epochs=1500, verbose=0);"
      ]
    },
    {
      "cell_type": "markdown",
      "metadata": {
        "id": "_HzcOm_xXB0R"
      },
      "source": [
        "## Prediction"
      ]
    },
    {
      "cell_type": "code",
      "execution_count": null,
      "metadata": {
        "colab": {
          "base_uri": "https://localhost:8080/",
          "height": 281
        },
        "id": "apIczRU6ZihQ",
        "outputId": "4d04ad55-d635-44ff-d24a-c5b394b225d8"
      },
      "outputs": [
        {
          "data": {
            "image/png": "[encoded data removed]",
            "text/plain": [
              "<Figure size 432x288 with 1 Axes>"
            ]
          },
          "metadata": {
            "needs_background": "light"
          },
          "output_type": "display_data"
        }
      ],
      "source": [
        "X_test = np.linspace(-1, 1, 32).reshape(-1, 1)\n",
        "y_pred_list = []\n",
        "\n",
        "for i in range(1000):\n",
        "    y_pred = model.predict(X_test)\n",
        "    y_pred_list.append(y_pred)\n",
        "    \n",
        "y_preds = np.concatenate(y_pred_list, axis=1)\n",
        "\n",
        "y_mean = np.mean(y_preds, axis=1)\n",
        "y_sigma = np.std(y_preds, axis=1)\n",
        "\n",
        "plt.plot(X_test, y_mean, 'r-', label='Predictive mean');\n",
        "plt.scatter(X, y, marker='+', label='Training data')\n",
        "plt.fill_between(X_test.ravel(), \n",
        "                 y_mean + 2 * y_sigma, \n",
        "                 y_mean - 2 * y_sigma, \n",
        "                 alpha=0.5, label='Epistemic uncertainty')\n",
        "plt.title('Prediction')\n",
        "plt.legend();"
      ]
    },
    {
      "cell_type": "markdown",
      "metadata": {
        "id": "SxwpXfcVlMP2"
      },
      "source": [
        "## Error"
      ]
    },
    {
      "cell_type": "code",
      "execution_count": null,
      "metadata": {
        "id": "RWogMNk-c6P1"
      },
      "outputs": [],
      "source": [
        "def mse(y_true, y_pred):\n",
        "\n",
        "  y_true = y_true.reshape(-1)\n",
        "  y_pred = y_pred.reshape(-1)\n",
        "\n",
        "  error = 0\n",
        "  for i in range(len(y_true)):\n",
        "\n",
        "    error += (y_true[i] - y_pred[i])**2\n",
        "    #print(error)\n",
        "  return error"
      ]
    },
    {
      "cell_type": "code",
      "execution_count": null,
      "metadata": {
        "colab": {
          "base_uri": "https://localhost:8080/"
        },
        "id": "ZRUHV8qeeJBv",
        "outputId": "73eaa0dd-73bf-4753-b317-d3f29a31ac34"
      },
      "outputs": [
        {
          "data": {
            "text/plain": [
              "194.39097489927403"
            ]
          },
          "execution_count": 10,
          "metadata": {},
          "output_type": "execute_result"
        }
      ],
      "source": [
        "mse(y, y_mean)"
      ]
    },
    {
      "cell_type": "code",
      "execution_count": null,
      "metadata": {
        "colab": {
          "base_uri": "https://localhost:8080/"
        },
        "id": "CDv6QvboZ3ur",
        "outputId": "ef6d580e-7a84-4141-d73e-fc80ec2bf901"
      },
      "outputs": [
        {
          "name": "stdout",
          "output_type": "stream",
          "text": [
            "Time taken: 64.3242998123169\n"
          ]
        }
      ],
      "source": [
        "end = time.time()\n",
        "print(\"Time taken:\", end - start)"
      ]
    },
    {
      "cell_type": "code",
      "execution_count": null,
      "metadata": {
        "id": "HcnZlHEWePCA"
      },
      "outputs": [],
      "source": []
    }
  ],
  "metadata": {
    "colab": {
      "collapsed_sections": [],
      "provenance": []
    },
    "kernelspec": {
      "display_name": "Julia 1.7.3",
      "language": "julia",
      "name": "julia-1.7"
    },
    "language_info": {
      "file_extension": ".jl",
      "mimetype": "application/julia",
      "name": "julia",
      "version": "1.7.3"
    }
  },
  "nbformat": 4,
  "nbformat_minor": 0
}
